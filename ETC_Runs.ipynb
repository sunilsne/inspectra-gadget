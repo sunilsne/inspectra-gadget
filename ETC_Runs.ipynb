{
 "cells": [
  {
   "cell_type": "code",
   "execution_count": 1,
   "id": "47bd068c",
   "metadata": {},
   "outputs": [],
   "source": [
    "import requests"
   ]
  },
  {
   "cell_type": "code",
   "execution_count": 2,
   "id": "c067fa8a",
   "metadata": {},
   "outputs": [],
   "source": [
    "import bs4 as bs"
   ]
  },
  {
   "cell_type": "code",
   "execution_count": 3,
   "id": "ce722f09",
   "metadata": {},
   "outputs": [],
   "source": [
    "from bs4 import BeautifulSoup"
   ]
  },
  {
   "cell_type": "code",
   "execution_count": 4,
   "id": "4560395a",
   "metadata": {},
   "outputs": [],
   "source": [
    "import numpy as np"
   ]
  },
  {
   "cell_type": "code",
   "execution_count": 5,
   "id": "5b1b45ef",
   "metadata": {},
   "outputs": [],
   "source": [
    "import json"
   ]
  },
  {
   "cell_type": "code",
   "execution_count": 6,
   "id": "551113f2",
   "metadata": {},
   "outputs": [],
   "source": [
    "import pandas as pd"
   ]
  },
  {
   "cell_type": "code",
   "execution_count": 7,
   "id": "efbcc3ce",
   "metadata": {},
   "outputs": [],
   "source": [
    "import re"
   ]
  },
  {
   "cell_type": "code",
   "execution_count": 8,
   "id": "6ad91aab",
   "metadata": {},
   "outputs": [],
   "source": [
    "##Open list of run ids\n",
    "with open('/users/ssunilkumar/desktop/cos_data/etcrunid_list.txt') as textfile:\n",
    "    contents = textfile.readlines()\n",
    "run_ids = sorted([x.strip() for x in contents])"
   ]
  },
  {
   "cell_type": "code",
   "execution_count": 9,
   "id": "16a4c551",
   "metadata": {},
   "outputs": [],
   "source": [
    "##Create empty list to store run ids\n",
    "results_list = []"
   ]
  },
  {
   "cell_type": "code",
   "execution_count": 10,
   "id": "f06322f3",
   "metadata": {},
   "outputs": [],
   "source": [
    "##Populate URLs to retrieve results pages\n",
    "for EtcRunId in run_ids:\n",
    "    URL = 'https://etc.stsci.edu/etc/results/'+str(EtcRunId)\n",
    "    results_list.append(URL)"
   ]
  },
  {
   "cell_type": "code",
   "execution_count": 11,
   "id": "6548e133",
   "metadata": {},
   "outputs": [],
   "source": [
    "##Generate empty list of URLs\n",
    "objnumbers = []"
   ]
  },
  {
   "cell_type": "code",
   "execution_count": 12,
   "id": "a5a649a6",
   "metadata": {},
   "outputs": [],
   "source": [
    "##Generate list to store version numbers in\n",
    "etc_version = []"
   ]
  },
  {
   "cell_type": "code",
   "execution_count": 13,
   "id": "f543de0f",
   "metadata": {},
   "outputs": [],
   "source": [
    "##Generate list to store calculated exposure times in\n",
    "exposure_times = []"
   ]
  },
  {
   "cell_type": "code",
   "execution_count": 14,
   "id": "3d69dccd",
   "metadata": {},
   "outputs": [],
   "source": [
    "##Generate list to store calculated S/N in\n",
    "signal_to_noise = []"
   ]
  },
  {
   "cell_type": "code",
   "execution_count": 15,
   "id": "8af42e4d",
   "metadata": {},
   "outputs": [],
   "source": [
    "##Generate list to store total count rates in\n",
    "count_rate = []"
   ]
  },
  {
   "cell_type": "code",
   "execution_count": 16,
   "id": "a32fcf77",
   "metadata": {},
   "outputs": [],
   "source": [
    "##Generate list to store type of input spectrum in\n",
    "input_spectrum_type = []"
   ]
  },
  {
   "cell_type": "code",
   "execution_count": 17,
   "id": "f13b9a12",
   "metadata": {},
   "outputs": [],
   "source": [
    "##Generate list to store chosen background in\n",
    "background_chosen = []"
   ]
  },
  {
   "cell_type": "code",
   "execution_count": 18,
   "id": "c13402a3",
   "metadata": {},
   "outputs": [],
   "source": [
    "##List of bad URLs\n",
    "modified_range = []"
   ]
  },
  {
   "cell_type": "code",
   "execution_count": null,
   "id": "41b59ef0",
   "metadata": {},
   "outputs": [],
   "source": [
    "##Gather count rates\n",
    "for filenumber in results_list:\n",
    "    ##Retrieve URLs\n",
    "    objnumber = requests.get(filenumber)\n",
    "    ##Parse with html parser\n",
    "    soup = bs.BeautifulSoup(objnumber.text, 'html.parser')\n",
    "    ##Find 'plain' class\n",
    "    block = soup.find_all(class_ = 'plain')\n",
    "    for element in block:\n",
    "        ##Append total count rate to list\n",
    "        if 'Total in selected region' in element.get_text():\n",
    "            formatted_count_rate = (str(element)).split('\\n')[2]\n",
    "            numerical_rate = formatted_count_rate.split('>')[1].split('<')[0]\n",
    "            if ',' in numerical_rate:\n",
    "                float_rate = float(numerical_rate.replace(',', ''))\n",
    "            else:\n",
    "                float_rate = float(numerical_rate)\n",
    "            count_rate.append(float_rate)"
   ]
  },
  {
   "cell_type": "code",
   "execution_count": null,
   "id": "2d7aebfc",
   "metadata": {},
   "outputs": [],
   "source": [
    "##Gather S/N and Exp time estimates\n",
    "for filenum in results_list:\n",
    "    objnumber = requests.get(filenum)\n",
    "    soup = bs.BeautifulSoup(objnumber.text, 'html.parser')\n",
    "    block = soup.find_all(class_ = 'primary')\n",
    "    for element in block:\n",
    "        if 'Signal/Noise Ratio' in element.get_text():\n",
    "            formatted_sn = float(str(element).split('= ')[1].split('\\n')[0])\n",
    "            signal_to_noise.append(formatted_sn)\n",
    "        elif 'Time' in element.get_text():\n",
    "            formatted_exptime = str(element).split('= ')[1].split(' ')[0]\n",
    "            if ',' in formatted_exptime:\n",
    "                float_exptime = float(formatted_exptime.replace(',', ''))\n",
    "            else:\n",
    "                float_exptime = float(formatted_exptime)\n",
    "            exposure_times.append(float_exptime)"
   ]
  },
  {
   "cell_type": "code",
   "execution_count": null,
   "id": "51fdb282",
   "metadata": {},
   "outputs": [],
   "source": [
    "##Gather ETC Versions\n",
    "for number in results_list:\n",
    "    objnumber = requests.get(number)\n",
    "    soup = bs.BeautifulSoup(objnumber.text, 'html.parser')\n",
    "    content = soup.find(\"div\", {\"id\": \"content\"})\n",
    "    ver = content.find(text=re.compile('ETC version')).strip().split('version')[-1].strip()\n",
    "    etc_version.append(ver)"
   ]
  },
  {
   "cell_type": "code",
   "execution_count": null,
   "id": "707ec21d",
   "metadata": {},
   "outputs": [],
   "source": [
    "df = pd.DataFrame({'Count Rate': count_rate, 'ExpTime': exposure_times, 'S/N': signal_to_noise, 'ETC Version': etc_version})\n",
    "df"
   ]
  },
  {
   "cell_type": "code",
   "execution_count": null,
   "id": "07bc6b63",
   "metadata": {},
   "outputs": [],
   "source": []
  }
 ],
 "metadata": {
  "kernelspec": {
   "display_name": "Python 3",
   "language": "python",
   "name": "python3"
  },
  "language_info": {
   "codemirror_mode": {
    "name": "ipython",
    "version": 3
   },
   "file_extension": ".py",
   "mimetype": "text/x-python",
   "name": "python",
   "nbconvert_exporter": "python",
   "pygments_lexer": "ipython3",
   "version": "3.9.5"
  }
 },
 "nbformat": 4,
 "nbformat_minor": 5
}
