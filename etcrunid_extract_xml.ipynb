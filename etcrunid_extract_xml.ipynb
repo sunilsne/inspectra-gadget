{
 "cells": [
  {
   "cell_type": "code",
   "execution_count": 1,
   "id": "6e325bc6",
   "metadata": {},
   "outputs": [],
   "source": [
    "import requests"
   ]
  },
  {
   "cell_type": "code",
   "execution_count": 2,
   "id": "7a9e5d22",
   "metadata": {},
   "outputs": [],
   "source": [
    "import glob"
   ]
  },
  {
   "cell_type": "code",
   "execution_count": 3,
   "id": "905b05a4",
   "metadata": {},
   "outputs": [],
   "source": [
    "import json"
   ]
  },
  {
   "cell_type": "code",
   "execution_count": 4,
   "id": "aa411da9",
   "metadata": {},
   "outputs": [],
   "source": [
    "import bs4 as bs"
   ]
  },
  {
   "cell_type": "code",
   "execution_count": 5,
   "id": "5ea0f726",
   "metadata": {},
   "outputs": [],
   "source": [
    "from bs4 import BeautifulSoup"
   ]
  },
  {
   "cell_type": "code",
   "execution_count": 6,
   "id": "9abf6166",
   "metadata": {},
   "outputs": [],
   "source": [
    "import pandas as pd"
   ]
  },
  {
   "cell_type": "code",
   "execution_count": 7,
   "id": "56f08619",
   "metadata": {},
   "outputs": [],
   "source": [
    "##Generate empty list of PIDs\n",
    "database_range = []"
   ]
  },
  {
   "cell_type": "code",
   "execution_count": 8,
   "id": "18f07a10",
   "metadata": {},
   "outputs": [],
   "source": [
    "##Populate list of PIDs\n",
    "database = pd.read_csv('/user/chjohnson1/for_elaine/cosmo_db.csv')\n",
    "data = sorted(list(set(database['PROPOSID'].tolist())))\n",
    "for element in data:\n",
    "    if element >= 12795:\n",
    "        database_range.append(element)\n",
    "    else:\n",
    "        pass"
   ]
  },
  {
   "cell_type": "code",
   "execution_count": 9,
   "id": "c1f15fad",
   "metadata": {},
   "outputs": [],
   "source": [
    "##Generate empty list to store URLs\n",
    "database_files = []"
   ]
  },
  {
   "cell_type": "code",
   "execution_count": 10,
   "id": "f3a053bf",
   "metadata": {},
   "outputs": [],
   "source": [
    "##Populate list of URLs\n",
    "for ID in database_range:\n",
    "    if int(ID) > 12793:\n",
    "        link = 'https://www.stsci.edu/hst/phase2-public/'+ str(ID) +'.apt'\n",
    "        database_files.append(link)\n",
    "    else:\n",
    "        pass"
   ]
  },
  {
   "cell_type": "code",
   "execution_count": 11,
   "id": "a247277b",
   "metadata": {},
   "outputs": [],
   "source": [
    "##Dictionaries mapping database columns (PID and LINENUM) keys to Run ID values\n",
    "PID_etcrunid_dict = {}\n",
    "Linenum_etcrunid_dict = {}\n",
    "rejects = []"
   ]
  },
  {
   "cell_type": "code",
   "execution_count": 71,
   "id": "24c52694",
   "metadata": {
    "scrolled": true
   },
   "outputs": [],
   "source": [
    "##List of linenumbers\n",
    "linenums = []\n",
    "visitnumbers = []\n",
    "for filenum in database_files:\n",
    "    ##Retrieve proposal file from URL\n",
    "    pagette = requests.get(filenum)\n",
    "    ##Create BeautifulSoup object and parse file with xml parser\n",
    "    objette = bs.BeautifulSoup(pagette.text, 'lxml')\n",
    "    ##Generate list of visits\n",
    "    visit_list = objette.find_all('visit')\n",
    "    ##Iterate over each visit in visit list\n",
    "    for vis in visit_list:\n",
    "        ##Save visit number (first part of line number)\n",
    "        visitnum = str(vis.attrs.get('number'))\n",
    "        visitnumbers.append(visitnum)\n",
    "        ##Iterate over each exposure in the visit\n",
    "        exposure_list = vis.find_all('exposure')\n",
    "        for expnum in exposure_list:\n",
    "            ##Check if exposure uses FUV (filters out acq/nuv/mama exposures)\n",
    "            configuration = expnum.attrs.get('config')\n",
    "            if configuration == 'COS/FUV':\n",
    "                ##Save exposure number (second part of line number)\n",
    "                number = expnum.attrs.get('number')\n",
    "                ##Line number formatting\n",
    "                if len(str(number)) == 1:\n",
    "                    exposurenum = '00' + str(number)\n",
    "                else:\n",
    "                    exposurenum = '0' + str(number)\n",
    "                ##Assemble line number (visit + exposure)\n",
    "                linenum = visitnum + '.' + exposurenum\n",
    "                linenums.append(linenum)"
   ]
  },
  {
   "cell_type": "code",
   "execution_count": 84,
   "id": "1f5b7ed3",
   "metadata": {},
   "outputs": [
    {
     "data": {
      "text/plain": [
       "39028"
      ]
     },
     "execution_count": 84,
     "metadata": {},
     "output_type": "execute_result"
    }
   ],
   "source": [
    "PID_list = list(pd.read_csv('/users/ssunilkumar/documents/cosmo_db_modified_excel.csv')['PROPOSID'])[13067:52095]"
   ]
  },
  {
   "cell_type": "code",
   "execution_count": null,
   "id": "a93ac1a3",
   "metadata": {
    "scrolled": true
   },
   "outputs": [],
   "source": [
    "##Get Run IDs for each rootname/PID\n",
    "runids = []\n",
    "for filenum in database_files:\n",
    "    ##Retrieve file from URL\n",
    "    pagette = requests.get(filenum)\n",
    "    ##Create beautiful soup object\n",
    "    objette = bs.BeautifulSoup(pagette.text, 'lxml')\n",
    "    ##Find exposures\n",
    "    exposure_list = objette.find_all('exposure')\n",
    "    for exp in exposure_list:\n",
    "        ##Filter out NUV/MAMA exposures\n",
    "        if exp.attrs.get('config') == 'COS/FUV':\n",
    "            ##Get Run ID\n",
    "            etcrunid = exp.attrs.get('etcrunid')\n",
    "            ##Fix IDs that don't have COS.sp. prefix\n",
    "            if len(str(etcrunid)) == 6 or len(str(etcrunid)) == 7:\n",
    "                complete_exposure = 'COS.sp.' + etcrunid\n",
    "                runids.append(complete_exposure)\n",
    "            ##Fix typo\n",
    "            elif 'COS' not in str(etcrunid) and 'OS' in str(etcrunid):\n",
    "                complete_exposure = 'C' + etcrunid\n",
    "                runids.append(complete_exposure)\n",
    "            ##Save IDs to list\n",
    "            elif 'COS.sp.' or 'COS.sa.' or 'COS.ta.' or 'COS.im.' in etcrunid:\n",
    "                if len(str(etcrunid)) == 13 or len(str(etcrunid)) == 14:\n",
    "                    complete_exposure = etcrunid\n",
    "                    runids.append(complete_exposure)\n",
    "        else:\n",
    "            pass"
   ]
  },
  {
   "cell_type": "code",
   "execution_count": 60,
   "id": "b4042fa9",
   "metadata": {},
   "outputs": [],
   "source": [
    "##IGNORE\n",
    "linenums = []\n",
    "runids = []\n",
    "runid_linenum_dict = {}\n",
    "for filenum in database_range[0:5]:\n",
    "    pagette = requests.get('https://www.stsci.edu/hst/phase2-public/' + str(filenum) + '.apt')\n",
    "    objette = bs.BeautifulSoup(pagette.text, 'lxml')\n",
    "    visit_list = objette.find_all('visit')\n",
    "    for vis in visit_list:\n",
    "        exposure_list = vis.find_all('exposure')\n",
    "        for exp in exposure_list:\n",
    "            configuration = exp.attrs.get('config')\n",
    "            etcrunid = exp.attrs.get('etcrunid')\n",
    "            visnum = vis.attrs.get('number')\n",
    "            if configuration == 'COS/FUV':\n",
    "                exposurenum = exp.attrs.get('number')\n",
    "                if len(exposurenum) == 1:\n",
    "                    expnum = '00' + exposurenum\n",
    "                    linenum = visnum + '.' + expnum\n",
    "                    linenums.append(linenum)\n",
    "                    runid = exp.attrs.get('etcrunid')\n",
    "                    runids.append(runid)\n",
    "                    runid_linenum_dict[linenum] = runid\n",
    "                elif len(exposurenum) == 2:\n",
    "                    expnum = '0' + exposurenum\n",
    "                    linenum = visnum + '.' + expnum\n",
    "                    linenums.append(linenum)\n",
    "                    runid = exp.attrs.get('etcrunid')\n",
    "                    runids.append(runid)\n",
    "                    runid_linenum_dict[linenum] = runid\n",
    "                else:\n",
    "                    expnum = exposurenum\n",
    "                    linenum = visnum + '.' + expnum\n",
    "                    linenums.append(linenum)\n",
    "                    runid = exp.attrs.get('etcrunid')\n",
    "                    runids.append(runid)\n",
    "                    runid_linenum_dict[linenum] = runid\n",
    "            else:\n",
    "                pass"
   ]
  },
  {
   "cell_type": "code",
   "execution_count": 90,
   "id": "b395da1c",
   "metadata": {},
   "outputs": [],
   "source": [
    "##Write output to CSV\n",
    "import csv\n",
    "with open('/users/ssunilkumar/documents/cosmo_db_modified.csv', 'w') as f:\n",
    "    writer = csv.writer(f)\n",
    "    for val in runids:\n",
    "        writer.writerow([val])"
   ]
  }
 ],
 "metadata": {
  "kernelspec": {
   "display_name": "Python 3",
   "language": "python",
   "name": "python3"
  },
  "language_info": {
   "codemirror_mode": {
    "name": "ipython",
    "version": 3
   },
   "file_extension": ".py",
   "mimetype": "text/x-python",
   "name": "python",
   "nbconvert_exporter": "python",
   "pygments_lexer": "ipython3",
   "version": "3.9.5"
  }
 },
 "nbformat": 4,
 "nbformat_minor": 5
}
